{
 "cells": [
  {
   "cell_type": "code",
   "execution_count": 37,
   "metadata": {},
   "outputs": [
    {
     "name": "stdout",
     "output_type": "stream",
     "text": [
      "[\n",
      "  {\n",
      "    \"title\": \"Greek Yogurt - Strained Natural\",\n",
      "    \"description\": \"Rich and creamy Greek-style yogurt made with natural milk. Contains live active cultures. No added sugar.\",\n",
      "    \"price\": 120,\n",
      "    \"weight\": 175,\n",
      "    \"nutrition\": {\n",
      "      \"energy\": 140,\n",
      "      \"protein\": 13,\n",
      "      \"fat\": 3,\n",
      "      \"carbohydrates\": 8\n",
      "    }\n",
      "  }\n",
      "]\n"
     ]
    }
   ],
   "source": [
    "import json\n",
    "from aiohttp import ClientSession\n",
    "\n",
    "async with ClientSession() as session:\n",
    "    async with session.post(\n",
    "        \"http://192.168.193.85:1234/v1/chat/completions\",\n",
    "        headers={\"Content-Type\": \"application/json\"},\n",
    "        data=json.dumps({\n",
    "            \"messages\": [\n",
    "                {\n",
    "                    \"role\": \"system\",\n",
    "                    \"content\": \"generate as json array of objects with fields: title, description, price (in rubles), weight (in grams), nutrition: {energy, protein, fat, carbohydrates}\",\n",
    "                },\n",
    "                {\"role\": \"user\", \"content\": \"1 products for 'yogurt' category\"},\n",
    "            ],\n",
    "            \"temperature\": 0.7,\n",
    "            \"max_tokens\": -1,\n",
    "            \"stream\": False,\n",
    "        }),\n",
    "    ) as response:\n",
    "        print((await response.json())[\"choices\"][0][\"message\"][\"content\"])"
   ]
  }
 ],
 "metadata": {
  "kernelspec": {
   "display_name": "Python 3",
   "language": "python",
   "name": "python3"
  },
  "language_info": {
   "codemirror_mode": {
    "name": "ipython",
    "version": 3
   },
   "file_extension": ".py",
   "mimetype": "text/x-python",
   "name": "python",
   "nbconvert_exporter": "python",
   "pygments_lexer": "ipython3",
   "version": "3.11.0"
  }
 },
 "nbformat": 4,
 "nbformat_minor": 2
}
