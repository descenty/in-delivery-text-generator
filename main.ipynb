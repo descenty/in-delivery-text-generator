{
 "cells": [
  {
   "cell_type": "code",
   "execution_count": 2,
   "metadata": {},
   "outputs": [
    {
     "ename": "ModuleNotFoundError",
     "evalue": "No module named 'aiohttp'",
     "output_type": "error",
     "traceback": [
      "\u001b[1;31m---------------------------------------------------------------------------\u001b[0m",
      "\u001b[1;31mModuleNotFoundError\u001b[0m                       Traceback (most recent call last)",
      "\u001b[1;32mc:\\VS Code Projects\\in-delivery-text-generator\\main.ipynb Cell 1\u001b[0m line \u001b[0;36m2\n\u001b[0;32m      <a href='vscode-notebook-cell:/c%3A/VS%20Code%20Projects/in-delivery-text-generator/main.ipynb#W0sZmlsZQ%3D%3D?line=0'>1</a>\u001b[0m \u001b[39mimport\u001b[39;00m \u001b[39mjson\u001b[39;00m\n\u001b[1;32m----> <a href='vscode-notebook-cell:/c%3A/VS%20Code%20Projects/in-delivery-text-generator/main.ipynb#W0sZmlsZQ%3D%3D?line=1'>2</a>\u001b[0m \u001b[39mfrom\u001b[39;00m \u001b[39maiohttp\u001b[39;00m \u001b[39mimport\u001b[39;00m ClientSession\n\u001b[0;32m      <a href='vscode-notebook-cell:/c%3A/VS%20Code%20Projects/in-delivery-text-generator/main.ipynb#W0sZmlsZQ%3D%3D?line=3'>4</a>\u001b[0m \u001b[39masync\u001b[39;00m \u001b[39mwith\u001b[39;00m ClientSession() \u001b[39mas\u001b[39;00m session:\n\u001b[0;32m      <a href='vscode-notebook-cell:/c%3A/VS%20Code%20Projects/in-delivery-text-generator/main.ipynb#W0sZmlsZQ%3D%3D?line=4'>5</a>\u001b[0m     \u001b[39masync\u001b[39;00m \u001b[39mwith\u001b[39;00m session\u001b[39m.\u001b[39mpost(\n\u001b[0;32m      <a href='vscode-notebook-cell:/c%3A/VS%20Code%20Projects/in-delivery-text-generator/main.ipynb#W0sZmlsZQ%3D%3D?line=5'>6</a>\u001b[0m         \u001b[39m\"\u001b[39m\u001b[39mhttp://192.168.193.85:1234/v1/chat/completions\u001b[39m\u001b[39m\"\u001b[39m,\n\u001b[0;32m      <a href='vscode-notebook-cell:/c%3A/VS%20Code%20Projects/in-delivery-text-generator/main.ipynb#W0sZmlsZQ%3D%3D?line=6'>7</a>\u001b[0m         headers\u001b[39m=\u001b[39m{\u001b[39m\"\u001b[39m\u001b[39mContent-Type\u001b[39m\u001b[39m\"\u001b[39m: \u001b[39m\"\u001b[39m\u001b[39mapplication/json\u001b[39m\u001b[39m\"\u001b[39m},\n\u001b[1;32m   (...)\u001b[0m\n\u001b[0;32m     <a href='vscode-notebook-cell:/c%3A/VS%20Code%20Projects/in-delivery-text-generator/main.ipynb#W0sZmlsZQ%3D%3D?line=18'>19</a>\u001b[0m         }),\n\u001b[0;32m     <a href='vscode-notebook-cell:/c%3A/VS%20Code%20Projects/in-delivery-text-generator/main.ipynb#W0sZmlsZQ%3D%3D?line=19'>20</a>\u001b[0m     ) \u001b[39mas\u001b[39;00m response:\n",
      "\u001b[1;31mModuleNotFoundError\u001b[0m: No module named 'aiohttp'"
     ]
    }
   ],
   "source": [
    "import json\n",
    "from aiohttp import ClientSession\n",
    "\n",
    "async with ClientSession() as session:\n",
    "    async with session.post(\n",
    "        \"http://192.168.193.85:1234/v1/chat/completions\",\n",
    "        headers={\"Content-Type\": \"application/json\"},\n",
    "        data=json.dumps({\n",
    "            \"messages\": [\n",
    "                {\n",
    "                    \"role\": \"system\",\n",
    "                    \"content\": \"generate as json array of objects with fields: title, description, price (in rubles), weight (in grams), nutrition: {energy, protein, fat, carbohydrates}\",\n",
    "                },\n",
    "                {\"role\": \"user\", \"content\": \"1 products for 'yogurt' category\"},\n",
    "            ],\n",
    "            \"temperature\": 0.7,\n",
    "            \"max_tokens\": -1,\n",
    "            \"stream\": False,\n",
    "        }),\n",
    "    ) as response:\n",
    "        print((await response.json())[\"choices\"][0][\"message\"][\"content\"])"
   ]
  },
  {
   "cell_type": "code",
   "execution_count": 1,
   "metadata": {},
   "outputs": [
    {
     "name": "stdout",
     "output_type": "stream",
     "text": [
      "JSON schema: {'slug': 'string', 'title': 'string'}\n",
      "Example object: {'slug': 'fruits-vegetables', 'title': 'Fruits and Vegetables'}\n",
      "Generate a JSON list of 2 subcategories for category 'milk':\n"
     ]
    }
   ],
   "source": [
    "from llama.generator import generate_json_response\n",
    "from schemas import Category, ModelGenerationPrompt\n",
    "\n",
    "generate_json_response(\n",
    "    ModelGenerationPrompt(\n",
    "        object_type=Category,\n",
    "        object_description=\"subcategories for category 'milk'\",\n",
    "        example=Category(slug=\"fruits-vegetables\", title=\"Fruits and Vegetables\"),\n",
    "        count=2,\n",
    "    )\n",
    ")"
   ]
  },
  {
   "cell_type": "code",
   "execution_count": 2,
   "metadata": {},
   "outputs": [
    {
     "name": "stdout",
     "output_type": "stream",
     "text": [
      "[{'slug': 'Salmon', 'title': 'Лосось'}, {'slug': 'Tuna', 'title': 'Тунец'}, {'slug': 'Swordfish', 'title': 'Рыба-меч'}, {'slug': 'Catfish', 'title': 'Сом'}, {'slug': 'Herring', 'title': 'Сельдь'}]\n"
     ]
    }
   ],
   "source": [
    "data = [\n",
    "        {\n",
    "            \"slug\": \"salmon\",\n",
    "            \"title\": \"Лосось\"\n",
    "        },\n",
    "        {\n",
    "            \"slug\": \"tuna\",\n",
    "            \"title\": \"Тунец\"\n",
    "        },\n",
    "        {\n",
    "            \"slug\": \"swordfish\",\n",
    "            \"title\": \"рыба-меч\"\n",
    "        },\n",
    "        {\n",
    "            \"slug\": \"catfish\",\n",
    "            \"title\": \"Сом\"\n",
    "        },\n",
    "        {\n",
    "            \"slug\": \"herring\",\n",
    "            \"title\": \"сельдь\"\n",
    "        }\n",
    "    ]\n",
    "for entry in data:\n",
    "    for field, value in entry.items():\n",
    "        entry[field] = value.capitalize() if isinstance(value,str) else value\n",
    "\n",
    "print(data)"
   ]
  }
 ],
 "metadata": {
  "kernelspec": {
   "display_name": "Python 3",
   "language": "python",
   "name": "python3"
  },
  "language_info": {
   "codemirror_mode": {
    "name": "ipython",
    "version": 3
   },
   "file_extension": ".py",
   "mimetype": "text/x-python",
   "name": "python",
   "nbconvert_exporter": "python",
   "pygments_lexer": "ipython3",
   "version": "3.11.0"
  }
 },
 "nbformat": 4,
 "nbformat_minor": 2
}
